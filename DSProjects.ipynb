{
 "cells": [
  {
   "attachments": {},
   "cell_type": "markdown",
   "metadata": {},
   "source": [
    "## Functions"
   ]
  },
  {
   "cell_type": "code",
   "execution_count": 1,
   "metadata": {},
   "outputs": [],
   "source": [
    "def normalize_inputdata():\n",
    "\n",
    "    data = input('\\nPlease enter data (seprate data with \\',\\'): ')\n",
    "    numstr = ''\n",
    "    numArray = []\n",
    "\n",
    "    for char in data:\n",
    "        if char != '[' and char != ' 'and char !=']':\n",
    "            numstr += char\n",
    "    for num in numstr.split(','):\n",
    "        numArray.append(float(num))\n",
    "        \n",
    "    return numArray  "
   ]
  },
  {
   "cell_type": "code",
   "execution_count": 2,
   "metadata": {},
   "outputs": [],
   "source": [
    "def merge(Array, frontIndex, MiddleIndex1, MiddleIndex2, rearIndex, sortedArray):\n",
    "    \n",
    "    i = frontIndex\n",
    "    j = MiddleIndex1\n",
    "    k = MiddleIndex2\n",
    "    l = frontIndex\n",
    " \n",
    "    while ((i < MiddleIndex1) and (j < MiddleIndex2) and (k < rearIndex)):\n",
    "        if(Array[i] < Array[j]):\n",
    "            if(Array[i] < Array[k]):\n",
    "                sortedArray[l] = Array[i]\n",
    "                l += 1\n",
    "                i += 1\n",
    "            else:\n",
    "                sortedArray[l] = Array[k]\n",
    "                l += 1\n",
    "                k += 1\n",
    "        else:\n",
    "            if(Array[j] < Array[k]):\n",
    "                sortedArray[l] = Array[j]\n",
    "                l += 1\n",
    "                j += 1\n",
    "            else:\n",
    "                sortedArray[l] = Array[k]\n",
    "                l += 1\n",
    "                k += 1\n",
    "\n",
    "    while ((i < MiddleIndex1) and (j < MiddleIndex2)):\n",
    "        if(Array[i] < Array[j]):\n",
    "            sortedArray[l] = Array[i]\n",
    "            l += 1\n",
    "            i += 1\n",
    "        else:\n",
    "            sortedArray[l] = Array[j]\n",
    "            l += 1\n",
    "            j += 1\n",
    "\n",
    "    while ((j < MiddleIndex2) and (k < rearIndex)):\n",
    "        if(Array[j] < Array[k]):\n",
    "            sortedArray[l] = Array[j]\n",
    "            l += 1\n",
    "            j += 1\n",
    "        else:\n",
    "            sortedArray[l] = Array[k]\n",
    "            l += 1\n",
    "            k += 1\n",
    "\n",
    "    while ((i < MiddleIndex1) and (k < rearIndex)):\n",
    "        if(Array[i] < Array[k]):\n",
    "            sortedArray[l] = Array[i]\n",
    "            l += 1\n",
    "            i += 1\n",
    "        else:\n",
    "            sortedArray[l] = Array[k]\n",
    "            l += 1\n",
    "            k += 1\n",
    " \n",
    "    while (i < MiddleIndex1):\n",
    "        sortedArray[l] = Array[i]\n",
    "        l += 1\n",
    "        i += 1\n",
    "    while (j < MiddleIndex2):\n",
    "        sortedArray[l] = Array[j]\n",
    "        l += 1\n",
    "        j += 1\n",
    "    while (k < rearIndex):\n",
    "        sortedArray[l] = Array[k]\n",
    "        l += 1\n",
    "        k += 1"
   ]
  },
  {
   "cell_type": "code",
   "execution_count": 3,
   "metadata": {},
   "outputs": [],
   "source": [
    "def Divide(Array, frontIndex, rearIndex, sortedArray):\n",
    "\n",
    "    if (rearIndex - frontIndex < 2):\n",
    "        return\n",
    " \n",
    "    MiddleIndex1 = frontIndex + ((rearIndex - frontIndex) // 3)\n",
    "    MiddleIndex2 = frontIndex + 2 * ((rearIndex - frontIndex) // 3) + 1\n",
    "    \n",
    "    Divide(sortedArray, frontIndex, MiddleIndex1, Array)\n",
    "    Divide(sortedArray, MiddleIndex1, MiddleIndex2, Array)\n",
    "    Divide(sortedArray, MiddleIndex2, rearIndex, Array)\n",
    "    merge(sortedArray, frontIndex, MiddleIndex1, MiddleIndex2, rearIndex, Array)"
   ]
  },
  {
   "cell_type": "code",
   "execution_count": 4,
   "metadata": {},
   "outputs": [],
   "source": [
    "def mergeSort3Way(dataArray, n):\n",
    "\n",
    "    if (n == 0):\n",
    "        return\n",
    "\n",
    "    tempArray = []\n",
    "    tempArray = dataArray.copy()\n",
    "    Divide(tempArray, 0, n, dataArray)\n",
    "    dataArray = tempArray.copy()\n",
    " \n",
    "    return dataArray"
   ]
  },
  {
   "attachments": {},
   "cell_type": "markdown",
   "metadata": {},
   "source": [
    "## Run and Evaluation"
   ]
  },
  {
   "cell_type": "code",
   "execution_count": 6,
   "metadata": {},
   "outputs": [
    {
     "name": "stdout",
     "output_type": "stream",
     "text": [
      "\n",
      "After 3 way merge sort:  [0.0, 5.0, 7.0, 8.0, 14.0, 19.0]"
     ]
    }
   ],
   "source": [
    "data = normalize_inputdata()\n",
    "data = mergeSort3Way(data, len(data))\n",
    "print(\"\\nAfter 3 way merge sort: \", data, end=\"\")"
   ]
  }
 ],
 "metadata": {
  "kernelspec": {
   "display_name": "Python 3.10.0 64-bit",
   "language": "python",
   "name": "python3"
  },
  "language_info": {
   "codemirror_mode": {
    "name": "ipython",
    "version": 3
   },
   "file_extension": ".py",
   "mimetype": "text/x-python",
   "name": "python",
   "nbconvert_exporter": "python",
   "pygments_lexer": "ipython3",
   "version": "3.10.0"
  },
  "orig_nbformat": 4,
  "vscode": {
   "interpreter": {
    "hash": "b38687464f26cc788bd6aab5d6ae24f3673c8f039be5f165e71e31106dd7d5ca"
   }
  }
 },
 "nbformat": 4,
 "nbformat_minor": 2
}
